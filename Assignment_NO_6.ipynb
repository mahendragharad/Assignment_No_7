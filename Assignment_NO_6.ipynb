{
  "nbformat": 4,
  "nbformat_minor": 0,
  "metadata": {
    "colab": {
      "provenance": []
    },
    "kernelspec": {
      "name": "python3",
      "display_name": "Python 3"
    },
    "language_info": {
      "name": "python"
    }
  },
  "cells": [
    {
      "cell_type": "markdown",
      "source": [
        "**1. Write a Python Program to find sum of array?**"
      ],
      "metadata": {
        "id": "i_7Gp4xluz4m"
      }
    },
    {
      "cell_type": "code",
      "execution_count": null,
      "metadata": {
        "colab": {
          "base_uri": "https://localhost:8080/"
        },
        "id": "DrSA_SPSuuSG",
        "outputId": "0d6e55a2-057b-428c-929a-6714f1d4a835"
      },
      "outputs": [
        {
          "output_type": "stream",
          "name": "stdout",
          "text": [
            "10\n"
          ]
        }
      ],
      "source": [
        "import array as arr \n",
        "sum_of_array = 0\n",
        "a = arr.array( \"i\", [1,2,3,4])\n",
        "\n",
        "for i in a :\n",
        "    sum_of_array += i\n",
        "print(sum_of_array)"
      ]
    },
    {
      "cell_type": "markdown",
      "source": [
        "\n",
        "\n",
        "---\n",
        "\n"
      ],
      "metadata": {
        "id": "sIv90rwIu_8Z"
      }
    },
    {
      "cell_type": "markdown",
      "source": [
        "**2. Write a Python Program to find largest element in an array?**"
      ],
      "metadata": {
        "id": "ZfqGzTjRvBQR"
      }
    },
    {
      "cell_type": "code",
      "source": [
        "import array as arr\n",
        "\n",
        "def lar_ele_in_array(n):\n",
        "    a = arr.array( \"i\" , n )\n",
        "    b = list(a)\n",
        "    b.sort()\n",
        "    print(\"largest element in the array\" , b[-1])"
      ],
      "metadata": {
        "id": "AEU0gGfTu9LI"
      },
      "execution_count": 3,
      "outputs": []
    },
    {
      "cell_type": "code",
      "source": [
        "lar_ele_in_array([2,3,4,5,56,6])"
      ],
      "metadata": {
        "colab": {
          "base_uri": "https://localhost:8080/"
        },
        "id": "y6KacbJEw4Ls",
        "outputId": "c79064b8-7c74-40ae-dc5e-beec6c8c0a57"
      },
      "execution_count": 4,
      "outputs": [
        {
          "output_type": "stream",
          "name": "stdout",
          "text": [
            "largest element in the array 56\n"
          ]
        }
      ]
    },
    {
      "cell_type": "markdown",
      "source": [
        "\n",
        "\n",
        "---\n",
        "\n"
      ],
      "metadata": {
        "id": "jFyQKeYcxEVh"
      }
    },
    {
      "cell_type": "markdown",
      "source": [
        "**3. Write a Python Program for array rotation?**"
      ],
      "metadata": {
        "id": "DEz2Vjp-xGv6"
      }
    },
    {
      "cell_type": "code",
      "source": [
        "def rotate_array(arr, k):\n",
        "    n = len(arr)\n",
        "    k = k % n  # To handle cases where k is greater than the length of the array\n",
        "    rotated_arr = arr[-k:] + arr[:-k]\n",
        "    return rotated_arr"
      ],
      "metadata": {
        "id": "pNy4k3jAxCCU"
      },
      "execution_count": 7,
      "outputs": []
    },
    {
      "cell_type": "code",
      "source": [
        "rotate_array([1, 2, 3, 4, 5, 6] , 2 )"
      ],
      "metadata": {
        "colab": {
          "base_uri": "https://localhost:8080/"
        },
        "id": "EX-eEGSODnP3",
        "outputId": "ffc28be4-231a-4ede-c82f-cda4f5c63289"
      },
      "execution_count": 6,
      "outputs": [
        {
          "output_type": "stream",
          "name": "stdout",
          "text": [
            "6\n"
          ]
        },
        {
          "output_type": "execute_result",
          "data": {
            "text/plain": [
              "[5, 6, 1, 2, 3, 4]"
            ]
          },
          "metadata": {},
          "execution_count": 6
        }
      ]
    },
    {
      "cell_type": "markdown",
      "source": [
        "**4. Write a Python Program to Split the array and add the first part to the end?**"
      ],
      "metadata": {
        "id": "ctq938r0Jj-E"
      }
    },
    {
      "cell_type": "code",
      "source": [
        "import array as arr\n",
        "def split_array (n , k):\n",
        "    a = arr.array(\"i\" , n)\n",
        "    part1 = n[:-k]\n",
        "    part2 = n[-k:]\n",
        "    print(\"part1\" , part1)\n",
        "    print(\"part2\" ,part2)\n",
        "    part2 = part2 + [part1]\n",
        "    return part2"
      ],
      "metadata": {
        "id": "IixSKCxAD-_b"
      },
      "execution_count": 13,
      "outputs": []
    },
    {
      "cell_type": "code",
      "source": [
        "split_array ([1, 2, 3, 4, 5] , 3)"
      ],
      "metadata": {
        "colab": {
          "base_uri": "https://localhost:8080/"
        },
        "id": "D103_0eEJrQh",
        "outputId": "2939f430-f0fc-4263-d149-7958069b4e32"
      },
      "execution_count": 14,
      "outputs": [
        {
          "output_type": "stream",
          "name": "stdout",
          "text": [
            "part1 [1, 2]\n",
            "part2 [3, 4, 5]\n"
          ]
        },
        {
          "output_type": "execute_result",
          "data": {
            "text/plain": [
              "[3, 4, 5, [1, 2]]"
            ]
          },
          "metadata": {},
          "execution_count": 14
        }
      ]
    },
    {
      "cell_type": "markdown",
      "source": [
        "\n",
        "\n",
        "---\n",
        "\n"
      ],
      "metadata": {
        "id": "RePdgLBaKdbO"
      }
    },
    {
      "cell_type": "markdown",
      "source": [
        "**5. Write a Python Program to check if given array is Monotonic?**"
      ],
      "metadata": {
        "id": "rEUWM6a0KeXi"
      }
    },
    {
      "cell_type": "code",
      "source": [
        "def is_monotonic(array):\n",
        "    is_increasing = True\n",
        "    is_decreasing = True\n",
        "\n",
        "    for i in range(len(array) - 1):\n",
        "        if array[i] > array[i + 1]:\n",
        "            is_increasing = False\n",
        "        if array[i] < array[i + 1]:\n",
        "            is_decreasing = False\n",
        "\n",
        "    return is_increasing or is_decreasing\n"
      ],
      "metadata": {
        "id": "5If3NyaXKM2V"
      },
      "execution_count": 15,
      "outputs": []
    },
    {
      "cell_type": "code",
      "source": [
        "is_monotonic([1,2,3,4,5,0,7])"
      ],
      "metadata": {
        "colab": {
          "base_uri": "https://localhost:8080/"
        },
        "id": "ZZX_00qxTjXY",
        "outputId": "01d452db-a3af-4e54-e917-2d437a45752b"
      },
      "execution_count": 16,
      "outputs": [
        {
          "output_type": "execute_result",
          "data": {
            "text/plain": [
              "False"
            ]
          },
          "metadata": {},
          "execution_count": 16
        }
      ]
    },
    {
      "cell_type": "code",
      "source": [
        "is_monotonic([1,2,3,4,5,45,89])"
      ],
      "metadata": {
        "colab": {
          "base_uri": "https://localhost:8080/"
        },
        "id": "rEPhjvmETmwV",
        "outputId": "872ccc7e-e365-4e2d-9fd6-f477a979627d"
      },
      "execution_count": 18,
      "outputs": [
        {
          "output_type": "execute_result",
          "data": {
            "text/plain": [
              "True"
            ]
          },
          "metadata": {},
          "execution_count": 18
        }
      ]
    },
    {
      "cell_type": "markdown",
      "source": [
        "\n",
        "\n",
        "---\n",
        "\n"
      ],
      "metadata": {
        "id": "Z0u-JxajTrWe"
      }
    },
    {
      "cell_type": "code",
      "source": [],
      "metadata": {
        "id": "M3Gd-ClrTo1W"
      },
      "execution_count": null,
      "outputs": []
    }
  ]
}